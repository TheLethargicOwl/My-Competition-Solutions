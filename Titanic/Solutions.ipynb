{
 "cells": [
  {
   "cell_type": "code",
   "execution_count": 1,
   "metadata": {},
   "outputs": [],
   "source": [
    "import numpy as np\n",
    "import pandas as pd\n",
    "from sklearn import tree,linear_model,neural_network\n",
    "from sklearn.neural_network import MLPClassifier\n",
    "import re"
   ]
  },
  {
   "cell_type": "code",
   "execution_count": 2,
   "metadata": {},
   "outputs": [],
   "source": [
    "train= pd.read_csv(\"train.csv\")\n",
    "test = pd.read_csv(\"test.csv\")\n",
    "predictions = pd.read_csv(\"gender_submission.csv\")"
   ]
  },
  {
   "cell_type": "code",
   "execution_count": 3,
   "metadata": {},
   "outputs": [],
   "source": [
    "labels=train.Survived\n",
    "train.drop(columns=['Survived'],inplace=True)"
   ]
  },
  {
   "cell_type": "code",
   "execution_count": 4,
   "metadata": {},
   "outputs": [],
   "source": [
    "join=pd.concat([train,test])"
   ]
  },
  {
   "cell_type": "code",
   "execution_count": 5,
   "metadata": {},
   "outputs": [],
   "source": [
    "join.drop(columns=['PassengerId','Cabin','Fare','Ticket'],inplace=True)"
   ]
  },
  {
   "cell_type": "code",
   "execution_count": 6,
   "metadata": {},
   "outputs": [],
   "source": [
    "Sex = pd.get_dummies(join.Sex)\n",
    "Sex = Sex.male\n",
    "join.Sex = Sex"
   ]
  },
  {
   "cell_type": "code",
   "execution_count": 7,
   "metadata": {},
   "outputs": [],
   "source": [
    "Embarked = pd.get_dummies(join.Embarked)\n",
    "Embarked = Embarked.iloc[:,0:2]\n",
    "join = pd.concat([join,Embarked],axis = 1)\n",
    "join.drop(['Embarked'],axis = 1,inplace = True)"
   ]
  },
  {
   "cell_type": "code",
   "execution_count": 8,
   "metadata": {},
   "outputs": [],
   "source": [
    "pclass=pd.get_dummies(join.Pclass)\n",
    "pclass=pclass.iloc[:,0:2]\n",
    "join=pd.concat([join,pclass],axis=1)\n",
    "join.drop(columns=['Pclass'],inplace=True)"
   ]
  },
  {
   "cell_type": "code",
   "execution_count": 9,
   "metadata": {},
   "outputs": [],
   "source": [
    "lis=[]\n",
    "for i in join.Name:\n",
    "    start = re.escape(\", \")\n",
    "    end   = re.escape(\". \")\n",
    "    result = re.search('%s(.*)%s' % (start, end), i).group(1)\n",
    "    lis.append(result)\n",
    "\n",
    "join.Name=lis"
   ]
  },
  {
   "cell_type": "code",
   "execution_count": 10,
   "metadata": {},
   "outputs": [],
   "source": [
    "for i in range(len(join)):\n",
    "    if join.Name.values[i]=='Don' or join.Name.values[i]=='Dr' or join.Name.values[i]=='Major' or join.Name.values[i]=='Rev' or join.Name.values[i]=='Col' or join.Name.values[i]=='Capt' or join.Name.values[i]=='Dona' or join.Name.values[i]=='Jonkheer' or join.Name.values[i]=='the Countess' or join.Name.values[i]=='Sir':\n",
    "        join.Name.values[i]='Mr'\n",
    "    if join.Name.values[i]=='Lady' or join.Name.values[i]=='Mlle' or join.Name.values[i]=='Ms' or join.Name.values[i]=='Mme' or join.Name.values[i]=='Mrs. Martin (Elizabeth L':\n",
    "        join.Name.values[i]='Mrs'"
   ]
  },
  {
   "cell_type": "code",
   "execution_count": 11,
   "metadata": {},
   "outputs": [],
   "source": [
    "dic={'Mr':1,'Mrs':2,'Miss':3,'Master':4}\n",
    "join.Name=join.Name.map(dic)"
   ]
  },
  {
   "cell_type": "code",
   "execution_count": 12,
   "metadata": {},
   "outputs": [],
   "source": [
    "dic1={1:join.groupby(['Name']).Age.mean()[1],2:join.groupby(['Name']).Age.mean()[2],3:join.groupby(['Name']).Age.mean()[3],4:join.groupby(['Name']).Age.mean()[4],}\n"
   ]
  },
  {
   "cell_type": "code",
   "execution_count": 13,
   "metadata": {},
   "outputs": [],
   "source": [
    "join.Age.fillna(value=join.Name.map(dic1),inplace=True)"
   ]
  },
  {
   "cell_type": "code",
   "execution_count": 14,
   "metadata": {},
   "outputs": [],
   "source": [
    "join['Family']=0\n",
    "for i in range(len(join)):\n",
    "    join.Family.values[i]=join.SibSp.values[i]+join.Parch.values[i]"
   ]
  },
  {
   "cell_type": "code",
   "execution_count": 15,
   "metadata": {},
   "outputs": [],
   "source": [
    "for i in range(len(join)):\n",
    "    if join.Family.values[i]>0:\n",
    "        join.Family.values[i]=1"
   ]
  },
  {
   "cell_type": "code",
   "execution_count": 16,
   "metadata": {},
   "outputs": [],
   "source": [
    "join.drop(columns=['Name'],inplace=True)"
   ]
  },
  {
   "cell_type": "code",
   "execution_count": 17,
   "metadata": {},
   "outputs": [
    {
     "data": {
      "text/html": [
       "<div>\n",
       "<style scoped>\n",
       "    .dataframe tbody tr th:only-of-type {\n",
       "        vertical-align: middle;\n",
       "    }\n",
       "\n",
       "    .dataframe tbody tr th {\n",
       "        vertical-align: top;\n",
       "    }\n",
       "\n",
       "    .dataframe thead th {\n",
       "        text-align: right;\n",
       "    }\n",
       "</style>\n",
       "<table border=\"1\" class=\"dataframe\">\n",
       "  <thead>\n",
       "    <tr style=\"text-align: right;\">\n",
       "      <th></th>\n",
       "      <th>Sex</th>\n",
       "      <th>Age</th>\n",
       "      <th>SibSp</th>\n",
       "      <th>Parch</th>\n",
       "      <th>C</th>\n",
       "      <th>Q</th>\n",
       "      <th>1</th>\n",
       "      <th>2</th>\n",
       "      <th>Family</th>\n",
       "    </tr>\n",
       "  </thead>\n",
       "  <tbody>\n",
       "    <tr>\n",
       "      <th>Sex</th>\n",
       "      <td>1.000000</td>\n",
       "      <td>0.086519</td>\n",
       "      <td>-0.109609</td>\n",
       "      <td>-0.213125</td>\n",
       "      <td>-0.066564</td>\n",
       "      <td>-0.088651</td>\n",
       "      <td>-0.107371</td>\n",
       "      <td>-0.028862</td>\n",
       "      <td>-0.284537</td>\n",
       "    </tr>\n",
       "    <tr>\n",
       "      <th>Age</th>\n",
       "      <td>0.086519</td>\n",
       "      <td>1.000000</td>\n",
       "      <td>-0.221898</td>\n",
       "      <td>-0.140485</td>\n",
       "      <td>0.081809</td>\n",
       "      <td>-0.044880</td>\n",
       "      <td>0.369295</td>\n",
       "      <td>-0.013146</td>\n",
       "      <td>-0.133672</td>\n",
       "    </tr>\n",
       "    <tr>\n",
       "      <th>SibSp</th>\n",
       "      <td>-0.109609</td>\n",
       "      <td>-0.221898</td>\n",
       "      <td>1.000000</td>\n",
       "      <td>0.373587</td>\n",
       "      <td>-0.048396</td>\n",
       "      <td>-0.048678</td>\n",
       "      <td>-0.034256</td>\n",
       "      <td>-0.052419</td>\n",
       "      <td>0.591077</td>\n",
       "    </tr>\n",
       "    <tr>\n",
       "      <th>Parch</th>\n",
       "      <td>-0.213125</td>\n",
       "      <td>-0.140485</td>\n",
       "      <td>0.373587</td>\n",
       "      <td>1.000000</td>\n",
       "      <td>-0.008635</td>\n",
       "      <td>-0.100943</td>\n",
       "      <td>-0.013033</td>\n",
       "      <td>-0.010057</td>\n",
       "      <td>0.549022</td>\n",
       "    </tr>\n",
       "    <tr>\n",
       "      <th>C</th>\n",
       "      <td>-0.066564</td>\n",
       "      <td>0.081809</td>\n",
       "      <td>-0.048396</td>\n",
       "      <td>-0.008635</td>\n",
       "      <td>1.000000</td>\n",
       "      <td>-0.164166</td>\n",
       "      <td>0.325722</td>\n",
       "      <td>-0.134675</td>\n",
       "      <td>0.107874</td>\n",
       "    </tr>\n",
       "    <tr>\n",
       "      <th>Q</th>\n",
       "      <td>-0.088651</td>\n",
       "      <td>-0.044880</td>\n",
       "      <td>-0.048678</td>\n",
       "      <td>-0.100943</td>\n",
       "      <td>-0.164166</td>\n",
       "      <td>1.000000</td>\n",
       "      <td>-0.166101</td>\n",
       "      <td>-0.121973</td>\n",
       "      <td>-0.127214</td>\n",
       "    </tr>\n",
       "    <tr>\n",
       "      <th>1</th>\n",
       "      <td>-0.107371</td>\n",
       "      <td>0.369295</td>\n",
       "      <td>-0.034256</td>\n",
       "      <td>-0.013033</td>\n",
       "      <td>0.325722</td>\n",
       "      <td>-0.166101</td>\n",
       "      <td>1.000000</td>\n",
       "      <td>-0.296526</td>\n",
       "      <td>0.126551</td>\n",
       "    </tr>\n",
       "    <tr>\n",
       "      <th>2</th>\n",
       "      <td>-0.028862</td>\n",
       "      <td>-0.013146</td>\n",
       "      <td>-0.052419</td>\n",
       "      <td>-0.010057</td>\n",
       "      <td>-0.134675</td>\n",
       "      <td>-0.121973</td>\n",
       "      <td>-0.296526</td>\n",
       "      <td>1.000000</td>\n",
       "      <td>0.035075</td>\n",
       "    </tr>\n",
       "    <tr>\n",
       "      <th>Family</th>\n",
       "      <td>-0.284537</td>\n",
       "      <td>-0.133672</td>\n",
       "      <td>0.591077</td>\n",
       "      <td>0.549022</td>\n",
       "      <td>0.107874</td>\n",
       "      <td>-0.127214</td>\n",
       "      <td>0.126551</td>\n",
       "      <td>0.035075</td>\n",
       "      <td>1.000000</td>\n",
       "    </tr>\n",
       "  </tbody>\n",
       "</table>\n",
       "</div>"
      ],
      "text/plain": [
       "             Sex       Age     SibSp     Parch         C         Q         1  \\\n",
       "Sex     1.000000  0.086519 -0.109609 -0.213125 -0.066564 -0.088651 -0.107371   \n",
       "Age     0.086519  1.000000 -0.221898 -0.140485  0.081809 -0.044880  0.369295   \n",
       "SibSp  -0.109609 -0.221898  1.000000  0.373587 -0.048396 -0.048678 -0.034256   \n",
       "Parch  -0.213125 -0.140485  0.373587  1.000000 -0.008635 -0.100943 -0.013033   \n",
       "C      -0.066564  0.081809 -0.048396 -0.008635  1.000000 -0.164166  0.325722   \n",
       "Q      -0.088651 -0.044880 -0.048678 -0.100943 -0.164166  1.000000 -0.166101   \n",
       "1      -0.107371  0.369295 -0.034256 -0.013033  0.325722 -0.166101  1.000000   \n",
       "2      -0.028862 -0.013146 -0.052419 -0.010057 -0.134675 -0.121973 -0.296526   \n",
       "Family -0.284537 -0.133672  0.591077  0.549022  0.107874 -0.127214  0.126551   \n",
       "\n",
       "               2    Family  \n",
       "Sex    -0.028862 -0.284537  \n",
       "Age    -0.013146 -0.133672  \n",
       "SibSp  -0.052419  0.591077  \n",
       "Parch  -0.010057  0.549022  \n",
       "C      -0.134675  0.107874  \n",
       "Q      -0.121973 -0.127214  \n",
       "1      -0.296526  0.126551  \n",
       "2       1.000000  0.035075  \n",
       "Family  0.035075  1.000000  "
      ]
     },
     "execution_count": 17,
     "metadata": {},
     "output_type": "execute_result"
    }
   ],
   "source": [
    "join.corr()"
   ]
  },
  {
   "cell_type": "code",
   "execution_count": 18,
   "metadata": {},
   "outputs": [],
   "source": [
    "x_test=join.iloc[891: :, :]\n",
    "x_cv=join.iloc[801:891:, :]\n",
    "x_train=join.iloc[ :801:, :]"
   ]
  },
  {
   "cell_type": "code",
   "execution_count": 19,
   "metadata": {},
   "outputs": [],
   "source": [
    "y_cv=labels.iloc[801:]\n",
    "y_train=labels.iloc[:801]"
   ]
  },
  {
   "cell_type": "code",
   "execution_count": 20,
   "metadata": {},
   "outputs": [
    {
     "data": {
      "text/plain": [
       "0.8888888888888888"
      ]
     },
     "execution_count": 20,
     "metadata": {},
     "output_type": "execute_result"
    }
   ],
   "source": [
    "clf1=MLPClassifier(solver='lbfgs', alpha=1e-5,hidden_layer_sizes=(18), random_state=0)\n",
    "clf1.fit(x_train,y_train)\n",
    "train_accuracy1=clf1.score(x_cv,y_cv)\n",
    "train_accuracy1"
   ]
  },
  {
   "cell_type": "code",
   "execution_count": 21,
   "metadata": {},
   "outputs": [],
   "source": [
    "y_pred1=clf1.predict(x_test)\n"
   ]
  },
  {
   "cell_type": "code",
   "execution_count": 22,
   "metadata": {},
   "outputs": [],
   "source": [
    "predictions['Survived']=y_pred1\n",
    "predictions.to_csv(\"pred.csv\",index = False)"
   ]
  },
  {
   "cell_type": "code",
   "execution_count": null,
   "metadata": {},
   "outputs": [],
   "source": []
  }
 ],
 "metadata": {
  "kernelspec": {
   "display_name": "Python 3",
   "language": "python",
   "name": "python3"
  },
  "language_info": {
   "codemirror_mode": {
    "name": "ipython",
    "version": 3
   },
   "file_extension": ".py",
   "mimetype": "text/x-python",
   "name": "python",
   "nbconvert_exporter": "python",
   "pygments_lexer": "ipython3",
   "version": "3.7.0"
  }
 },
 "nbformat": 4,
 "nbformat_minor": 2
}
