{
 "cells": [
  {
   "cell_type": "code",
   "execution_count": 1,
   "metadata": {},
   "outputs": [
    {
     "name": "stderr",
     "output_type": "stream",
     "text": [
      "C:\\Users\\mbsaifee\\Anaconda3\\lib\\site-packages\\sklearn\\ensemble\\weight_boosting.py:29: DeprecationWarning: numpy.core.umath_tests is an internal NumPy module and should not be imported. It will be removed in a future NumPy release.\n",
      "  from numpy.core.umath_tests import inner1d\n"
     ]
    }
   ],
   "source": [
    "import numpy as np\n",
    "import pandas as pd\n",
    "from sklearn import tree,linear_model,neural_network\n",
    "from sklearn.tree import DecisionTreeClassifier\n",
    "from sklearn.neural_network import MLPClassifier\n",
    "from sklearn.linear_model import LogisticRegression \n",
    "from sklearn.ensemble import RandomForestClassifier\n",
    "from sklearn.ensemble import ExtraTreesClassifier\n",
    "from sklearn.ensemble import GradientBoostingClassifier\n",
    "from sklearn.ensemble import AdaBoostClassifier\n",
    "from sklearn.ensemble import BaggingClassifier\n",
    "import re"
   ]
  },
  {
   "cell_type": "code",
   "execution_count": 2,
   "metadata": {},
   "outputs": [],
   "source": [
    "train= pd.read_csv(\"train.csv\")\n",
    "test = pd.read_csv(\"test.csv\")\n",
    "predictions = pd.read_csv(\"gender_submission.csv\")"
   ]
  },
  {
   "cell_type": "code",
   "execution_count": 3,
   "metadata": {},
   "outputs": [],
   "source": [
    "labels=train.Survived\n",
    "train.drop(columns=['Survived'],inplace=True)"
   ]
  },
  {
   "cell_type": "code",
   "execution_count": 4,
   "metadata": {},
   "outputs": [],
   "source": [
    "join=pd.concat([train,test])"
   ]
  },
  {
   "cell_type": "code",
   "execution_count": 5,
   "metadata": {},
   "outputs": [],
   "source": [
    "join.drop(columns=['PassengerId','Cabin','Fare','Ticket'],inplace=True)"
   ]
  },
  {
   "cell_type": "code",
   "execution_count": 6,
   "metadata": {},
   "outputs": [
    {
     "data": {
      "text/plain": [
       "Pclass        0\n",
       "Name          0\n",
       "Sex           0\n",
       "Age         263\n",
       "SibSp         0\n",
       "Parch         0\n",
       "Embarked      2\n",
       "dtype: int64"
      ]
     },
     "execution_count": 6,
     "metadata": {},
     "output_type": "execute_result"
    }
   ],
   "source": [
    "join.isnull().sum()"
   ]
  },
  {
   "cell_type": "code",
   "execution_count": 7,
   "metadata": {},
   "outputs": [],
   "source": [
    "Sex = pd.get_dummies(join.Sex)\n",
    "Sex = Sex.male\n",
    "join.Sex = Sex"
   ]
  },
  {
   "cell_type": "code",
   "execution_count": 8,
   "metadata": {},
   "outputs": [],
   "source": [
    "Embarked = pd.get_dummies(join.Embarked)\n",
    "Embarked = Embarked.iloc[:,0:2]\n",
    "join = pd.concat([join,Embarked],axis = 1)\n",
    "join.drop(['Embarked'],axis = 1,inplace = True)"
   ]
  },
  {
   "cell_type": "code",
   "execution_count": 9,
   "metadata": {},
   "outputs": [
    {
     "data": {
      "text/plain": [
       "Pclass      0\n",
       "Name        0\n",
       "Sex         0\n",
       "Age       263\n",
       "SibSp       0\n",
       "Parch       0\n",
       "C           0\n",
       "Q           0\n",
       "dtype: int64"
      ]
     },
     "execution_count": 9,
     "metadata": {},
     "output_type": "execute_result"
    }
   ],
   "source": [
    "join.isnull().sum()"
   ]
  },
  {
   "cell_type": "code",
   "execution_count": 10,
   "metadata": {},
   "outputs": [],
   "source": [
    "pclass=pd.get_dummies(join.Pclass)\n",
    "pclass=pclass.iloc[:,0:2]\n",
    "join=pd.concat([join,pclass],axis=1)\n",
    "join.drop(columns=['Pclass'],inplace=True)"
   ]
  },
  {
   "cell_type": "code",
   "execution_count": 11,
   "metadata": {},
   "outputs": [],
   "source": [
    "lis=[]\n",
    "for i in join.Name:\n",
    "    start = re.escape(\", \")\n",
    "    end   = re.escape(\". \")\n",
    "    result = re.search('%s(.*)%s' % (start, end), i).group(1)\n",
    "    lis.append(result)\n",
    "\n",
    "join.Name=lis"
   ]
  },
  {
   "cell_type": "code",
   "execution_count": 12,
   "metadata": {},
   "outputs": [
    {
     "data": {
      "text/plain": [
       "array(['Mr', 'Mrs', 'Miss', 'Master', 'Don', 'Rev', 'Dr', 'Mme', 'Ms',\n",
       "       'Major', 'Mrs. Martin (Elizabeth L', 'Lady', 'Sir', 'Mlle', 'Col',\n",
       "       'Capt', 'the Countess', 'Jonkheer', 'Dona'], dtype=object)"
      ]
     },
     "execution_count": 12,
     "metadata": {},
     "output_type": "execute_result"
    }
   ],
   "source": [
    "join.Name.unique()"
   ]
  },
  {
   "cell_type": "code",
   "execution_count": 13,
   "metadata": {},
   "outputs": [],
   "source": [
    "for i in range(len(join)):\n",
    "    if join.Name.values[i]=='Don' or join.Name.values[i]=='Dr' or join.Name.values[i]=='Major' or join.Name.values[i]=='Rev' or join.Name.values[i]=='Col' or join.Name.values[i]=='Capt' or join.Name.values[i]=='Dona' or join.Name.values[i]=='Jonkheer' or join.Name.values[i]=='the Countess' or join.Name.values[i]=='Sir':\n",
    "        join.Name.values[i]='Mr'\n",
    "    if join.Name.values[i]=='Lady' or join.Name.values[i]=='Mlle' or join.Name.values[i]=='Ms' or join.Name.values[i]=='Mme' or join.Name.values[i]=='Mrs. Martin (Elizabeth L':\n",
    "        join.Name.values[i]='Mrs'"
   ]
  },
  {
   "cell_type": "code",
   "execution_count": 14,
   "metadata": {},
   "outputs": [
    {
     "data": {
      "text/plain": [
       "array(['Mr', 'Mrs', 'Miss', 'Master'], dtype=object)"
      ]
     },
     "execution_count": 14,
     "metadata": {},
     "output_type": "execute_result"
    }
   ],
   "source": [
    "join.Name.unique()"
   ]
  },
  {
   "cell_type": "code",
   "execution_count": 15,
   "metadata": {},
   "outputs": [],
   "source": [
    "dic={'Mr':1,'Mrs':2,'Miss':3,'Master':4}\n",
    "join.Name=join.Name.map(dic)"
   ]
  },
  {
   "cell_type": "code",
   "execution_count": 16,
   "metadata": {},
   "outputs": [],
   "source": [
    "dic1={1:join.groupby(['Name']).Age.mean()[1],2:join.groupby(['Name']).Age.mean()[2],3:join.groupby(['Name']).Age.mean()[3],4:join.groupby(['Name']).Age.mean()[4],}\n"
   ]
  },
  {
   "cell_type": "code",
   "execution_count": 17,
   "metadata": {},
   "outputs": [],
   "source": [
    "join.Age.fillna(value=join.Name.map(dic1),inplace=True)"
   ]
  },
  {
   "cell_type": "code",
   "execution_count": 18,
   "metadata": {},
   "outputs": [
    {
     "data": {
      "text/plain": [
       "Name     0\n",
       "Sex      0\n",
       "Age      0\n",
       "SibSp    0\n",
       "Parch    0\n",
       "C        0\n",
       "Q        0\n",
       "1        0\n",
       "2        0\n",
       "dtype: int64"
      ]
     },
     "execution_count": 18,
     "metadata": {},
     "output_type": "execute_result"
    }
   ],
   "source": [
    "join.isnull().sum()"
   ]
  },
  {
   "cell_type": "code",
   "execution_count": 19,
   "metadata": {},
   "outputs": [],
   "source": [
    "join['Family']=0\n",
    "for i in range(len(join)):\n",
    "    join.Family.values[i]=join.SibSp.values[i]+join.Parch.values[i]"
   ]
  },
  {
   "cell_type": "code",
   "execution_count": 20,
   "metadata": {},
   "outputs": [],
   "source": [
    "for i in range(len(join)):\n",
    "    if join.Family.values[i]>0:\n",
    "        join.Family.values[i]=1"
   ]
  },
  {
   "cell_type": "code",
   "execution_count": 21,
   "metadata": {},
   "outputs": [
    {
     "data": {
      "text/plain": [
       "array([1, 0], dtype=int64)"
      ]
     },
     "execution_count": 21,
     "metadata": {},
     "output_type": "execute_result"
    }
   ],
   "source": [
    "join.Family.unique()"
   ]
  },
  {
   "cell_type": "code",
   "execution_count": 22,
   "metadata": {},
   "outputs": [
    {
     "data": {
      "text/plain": [
       "Name      0\n",
       "Sex       0\n",
       "Age       0\n",
       "SibSp     0\n",
       "Parch     0\n",
       "C         0\n",
       "Q         0\n",
       "1         0\n",
       "2         0\n",
       "Family    0\n",
       "dtype: int64"
      ]
     },
     "execution_count": 22,
     "metadata": {},
     "output_type": "execute_result"
    }
   ],
   "source": [
    "join.isnull().sum()"
   ]
  },
  {
   "cell_type": "code",
   "execution_count": 23,
   "metadata": {},
   "outputs": [],
   "source": [
    "join.drop(columns=['Name'],inplace=True)"
   ]
  },
  {
   "cell_type": "code",
   "execution_count": 24,
   "metadata": {},
   "outputs": [
    {
     "data": {
      "text/html": [
       "<div>\n",
       "<style scoped>\n",
       "    .dataframe tbody tr th:only-of-type {\n",
       "        vertical-align: middle;\n",
       "    }\n",
       "\n",
       "    .dataframe tbody tr th {\n",
       "        vertical-align: top;\n",
       "    }\n",
       "\n",
       "    .dataframe thead th {\n",
       "        text-align: right;\n",
       "    }\n",
       "</style>\n",
       "<table border=\"1\" class=\"dataframe\">\n",
       "  <thead>\n",
       "    <tr style=\"text-align: right;\">\n",
       "      <th></th>\n",
       "      <th>Sex</th>\n",
       "      <th>Age</th>\n",
       "      <th>SibSp</th>\n",
       "      <th>Parch</th>\n",
       "      <th>C</th>\n",
       "      <th>Q</th>\n",
       "      <th>1</th>\n",
       "      <th>2</th>\n",
       "      <th>Family</th>\n",
       "    </tr>\n",
       "  </thead>\n",
       "  <tbody>\n",
       "    <tr>\n",
       "      <th>Sex</th>\n",
       "      <td>1.000000</td>\n",
       "      <td>0.086519</td>\n",
       "      <td>-0.109609</td>\n",
       "      <td>-0.213125</td>\n",
       "      <td>-0.066564</td>\n",
       "      <td>-0.088651</td>\n",
       "      <td>-0.107371</td>\n",
       "      <td>-0.028862</td>\n",
       "      <td>-0.284537</td>\n",
       "    </tr>\n",
       "    <tr>\n",
       "      <th>Age</th>\n",
       "      <td>0.086519</td>\n",
       "      <td>1.000000</td>\n",
       "      <td>-0.221898</td>\n",
       "      <td>-0.140485</td>\n",
       "      <td>0.081809</td>\n",
       "      <td>-0.044880</td>\n",
       "      <td>0.369295</td>\n",
       "      <td>-0.013146</td>\n",
       "      <td>-0.133672</td>\n",
       "    </tr>\n",
       "    <tr>\n",
       "      <th>SibSp</th>\n",
       "      <td>-0.109609</td>\n",
       "      <td>-0.221898</td>\n",
       "      <td>1.000000</td>\n",
       "      <td>0.373587</td>\n",
       "      <td>-0.048396</td>\n",
       "      <td>-0.048678</td>\n",
       "      <td>-0.034256</td>\n",
       "      <td>-0.052419</td>\n",
       "      <td>0.591077</td>\n",
       "    </tr>\n",
       "    <tr>\n",
       "      <th>Parch</th>\n",
       "      <td>-0.213125</td>\n",
       "      <td>-0.140485</td>\n",
       "      <td>0.373587</td>\n",
       "      <td>1.000000</td>\n",
       "      <td>-0.008635</td>\n",
       "      <td>-0.100943</td>\n",
       "      <td>-0.013033</td>\n",
       "      <td>-0.010057</td>\n",
       "      <td>0.549022</td>\n",
       "    </tr>\n",
       "    <tr>\n",
       "      <th>C</th>\n",
       "      <td>-0.066564</td>\n",
       "      <td>0.081809</td>\n",
       "      <td>-0.048396</td>\n",
       "      <td>-0.008635</td>\n",
       "      <td>1.000000</td>\n",
       "      <td>-0.164166</td>\n",
       "      <td>0.325722</td>\n",
       "      <td>-0.134675</td>\n",
       "      <td>0.107874</td>\n",
       "    </tr>\n",
       "    <tr>\n",
       "      <th>Q</th>\n",
       "      <td>-0.088651</td>\n",
       "      <td>-0.044880</td>\n",
       "      <td>-0.048678</td>\n",
       "      <td>-0.100943</td>\n",
       "      <td>-0.164166</td>\n",
       "      <td>1.000000</td>\n",
       "      <td>-0.166101</td>\n",
       "      <td>-0.121973</td>\n",
       "      <td>-0.127214</td>\n",
       "    </tr>\n",
       "    <tr>\n",
       "      <th>1</th>\n",
       "      <td>-0.107371</td>\n",
       "      <td>0.369295</td>\n",
       "      <td>-0.034256</td>\n",
       "      <td>-0.013033</td>\n",
       "      <td>0.325722</td>\n",
       "      <td>-0.166101</td>\n",
       "      <td>1.000000</td>\n",
       "      <td>-0.296526</td>\n",
       "      <td>0.126551</td>\n",
       "    </tr>\n",
       "    <tr>\n",
       "      <th>2</th>\n",
       "      <td>-0.028862</td>\n",
       "      <td>-0.013146</td>\n",
       "      <td>-0.052419</td>\n",
       "      <td>-0.010057</td>\n",
       "      <td>-0.134675</td>\n",
       "      <td>-0.121973</td>\n",
       "      <td>-0.296526</td>\n",
       "      <td>1.000000</td>\n",
       "      <td>0.035075</td>\n",
       "    </tr>\n",
       "    <tr>\n",
       "      <th>Family</th>\n",
       "      <td>-0.284537</td>\n",
       "      <td>-0.133672</td>\n",
       "      <td>0.591077</td>\n",
       "      <td>0.549022</td>\n",
       "      <td>0.107874</td>\n",
       "      <td>-0.127214</td>\n",
       "      <td>0.126551</td>\n",
       "      <td>0.035075</td>\n",
       "      <td>1.000000</td>\n",
       "    </tr>\n",
       "  </tbody>\n",
       "</table>\n",
       "</div>"
      ],
      "text/plain": [
       "             Sex       Age     SibSp     Parch         C         Q         1  \\\n",
       "Sex     1.000000  0.086519 -0.109609 -0.213125 -0.066564 -0.088651 -0.107371   \n",
       "Age     0.086519  1.000000 -0.221898 -0.140485  0.081809 -0.044880  0.369295   \n",
       "SibSp  -0.109609 -0.221898  1.000000  0.373587 -0.048396 -0.048678 -0.034256   \n",
       "Parch  -0.213125 -0.140485  0.373587  1.000000 -0.008635 -0.100943 -0.013033   \n",
       "C      -0.066564  0.081809 -0.048396 -0.008635  1.000000 -0.164166  0.325722   \n",
       "Q      -0.088651 -0.044880 -0.048678 -0.100943 -0.164166  1.000000 -0.166101   \n",
       "1      -0.107371  0.369295 -0.034256 -0.013033  0.325722 -0.166101  1.000000   \n",
       "2      -0.028862 -0.013146 -0.052419 -0.010057 -0.134675 -0.121973 -0.296526   \n",
       "Family -0.284537 -0.133672  0.591077  0.549022  0.107874 -0.127214  0.126551   \n",
       "\n",
       "               2    Family  \n",
       "Sex    -0.028862 -0.284537  \n",
       "Age    -0.013146 -0.133672  \n",
       "SibSp  -0.052419  0.591077  \n",
       "Parch  -0.010057  0.549022  \n",
       "C      -0.134675  0.107874  \n",
       "Q      -0.121973 -0.127214  \n",
       "1      -0.296526  0.126551  \n",
       "2       1.000000  0.035075  \n",
       "Family  0.035075  1.000000  "
      ]
     },
     "execution_count": 24,
     "metadata": {},
     "output_type": "execute_result"
    }
   ],
   "source": [
    "join.corr()"
   ]
  },
  {
   "cell_type": "code",
   "execution_count": 25,
   "metadata": {},
   "outputs": [],
   "source": [
    "x_test=join.iloc[891: :, :]\n",
    "x_cv=join.iloc[801:891:, :]\n",
    "x_train=join.iloc[ :801:, :]"
   ]
  },
  {
   "cell_type": "code",
   "execution_count": 26,
   "metadata": {},
   "outputs": [],
   "source": [
    "y_cv=labels.iloc[801:]\n",
    "y_train=labels.iloc[:801]"
   ]
  },
  {
   "cell_type": "code",
   "execution_count": 27,
   "metadata": {},
   "outputs": [],
   "source": [
    "clf = tree.DecisionTreeClassifier(criterion=\"entropy\",)\n",
    "clf.fit(x_train, y_train)\n",
    "train_accuracy = clf.score(x_cv,y_cv)"
   ]
  },
  {
   "cell_type": "code",
   "execution_count": 28,
   "metadata": {},
   "outputs": [
    {
     "data": {
      "text/plain": [
       "0.8111111111111111"
      ]
     },
     "execution_count": 28,
     "metadata": {},
     "output_type": "execute_result"
    }
   ],
   "source": [
    "train_accuracy"
   ]
  },
  {
   "cell_type": "code",
   "execution_count": 29,
   "metadata": {},
   "outputs": [],
   "source": [
    "y_pred=clf.predict(x_test)"
   ]
  },
  {
   "cell_type": "code",
   "execution_count": 30,
   "metadata": {},
   "outputs": [
    {
     "data": {
      "text/plain": [
       "0.8888888888888888"
      ]
     },
     "execution_count": 30,
     "metadata": {},
     "output_type": "execute_result"
    }
   ],
   "source": [
    "clf1=MLPClassifier(solver='lbfgs', alpha=1e-5,hidden_layer_sizes=(18), random_state=0)\n",
    "clf1.fit(x_train,y_train)\n",
    "train_accuracy1=clf1.score(x_cv,y_cv)\n",
    "train_accuracy1"
   ]
  },
  {
   "cell_type": "code",
   "execution_count": 31,
   "metadata": {},
   "outputs": [],
   "source": [
    "y_pred1=clf1.predict(x_test)\n"
   ]
  },
  {
   "cell_type": "code",
   "execution_count": 32,
   "metadata": {},
   "outputs": [
    {
     "data": {
      "text/plain": [
       "0.8444444444444444"
      ]
     },
     "execution_count": 32,
     "metadata": {},
     "output_type": "execute_result"
    }
   ],
   "source": [
    "clf2= LogisticRegression(C=1000.0, random_state=1)\n",
    "clf2.fit(x_train,y_train)\n",
    "train_accuracy2=clf2.score(x_cv,y_cv)\n",
    "train_accuracy2"
   ]
  },
  {
   "cell_type": "code",
   "execution_count": 33,
   "metadata": {},
   "outputs": [],
   "source": [
    "y_pred2=clf2.predict(x_test)"
   ]
  },
  {
   "cell_type": "code",
   "execution_count": 34,
   "metadata": {},
   "outputs": [
    {
     "data": {
      "text/plain": [
       "0.8333333333333334"
      ]
     },
     "execution_count": 34,
     "metadata": {},
     "output_type": "execute_result"
    }
   ],
   "source": [
    "clf3= AdaBoostClassifier(n_estimators=100)\n",
    "clf3.fit(x_train,y_train)\n",
    "train_accuracy3=clf3.score(x_cv,y_cv)\n",
    "train_accuracy3"
   ]
  },
  {
   "cell_type": "code",
   "execution_count": 35,
   "metadata": {},
   "outputs": [],
   "source": [
    "y_pred3=clf3.predict(x_test)"
   ]
  },
  {
   "cell_type": "code",
   "execution_count": 36,
   "metadata": {},
   "outputs": [
    {
     "data": {
      "text/plain": [
       "0.8222222222222222"
      ]
     },
     "execution_count": 36,
     "metadata": {},
     "output_type": "execute_result"
    }
   ],
   "source": [
    "clf4=RandomForestClassifier(n_estimators=800, max_features=9)\n",
    "clf4.fit(x_train,y_train)\n",
    "train_accuracy4=clf4.score(x_cv,y_cv)\n",
    "train_accuracy4"
   ]
  },
  {
   "cell_type": "code",
   "execution_count": 37,
   "metadata": {},
   "outputs": [],
   "source": [
    "y_pred4=clf4.predict(x_test)"
   ]
  },
  {
   "cell_type": "code",
   "execution_count": 38,
   "metadata": {},
   "outputs": [
    {
     "data": {
      "text/plain": [
       "0.8666666666666667"
      ]
     },
     "execution_count": 38,
     "metadata": {},
     "output_type": "execute_result"
    }
   ],
   "source": [
    "clf5 = BaggingClassifier(base_estimator=clf1, n_estimators=100, random_state=7)\n",
    "clf5.fit(x_train,y_train)\n",
    "train_accuracy5=clf5.score(x_cv,y_cv)\n",
    "train_accuracy5"
   ]
  },
  {
   "cell_type": "code",
   "execution_count": 39,
   "metadata": {},
   "outputs": [],
   "source": [
    "y_pred5=clf5.predict(x_test)"
   ]
  },
  {
   "cell_type": "code",
   "execution_count": 40,
   "metadata": {},
   "outputs": [],
   "source": [
    "y=clf.predict(x_train)\n",
    "y1=clf1.predict(x_train)\n",
    "y2=clf2.predict(x_train)\n",
    "y3=clf3.predict(x_train)\n",
    "y4=clf4.predict(x_train)\n",
    "y5=clf5.predict(x_train)"
   ]
  },
  {
   "cell_type": "code",
   "execution_count": 41,
   "metadata": {},
   "outputs": [],
   "source": [
    "Xy=np.vstack([y,y1,y2,y3,y4,y5]).T"
   ]
  },
  {
   "cell_type": "code",
   "execution_count": 42,
   "metadata": {},
   "outputs": [
    {
     "data": {
      "text/plain": [
       "0.9375780274656679"
      ]
     },
     "execution_count": 42,
     "metadata": {},
     "output_type": "execute_result"
    }
   ],
   "source": [
    "clf6 = GradientBoostingClassifier()\n",
    "clf6.fit(Xy, y_train)\n",
    "clf6.score(Xy,y_train)"
   ]
  },
  {
   "cell_type": "code",
   "execution_count": 43,
   "metadata": {},
   "outputs": [],
   "source": [
    "Xy_test=np.vstack([y_pred,y_pred1,y_pred2,y_pred3,y_pred4,y_pred5]).T"
   ]
  },
  {
   "cell_type": "code",
   "execution_count": 44,
   "metadata": {},
   "outputs": [
    {
     "data": {
      "text/plain": [
       "array([0, 0, 0, 0, 1, 0, 0, 0, 1, 1, 0, 0, 1, 0, 1, 1, 0, 0, 0, 0, 1, 1,\n",
       "       1, 0, 1, 0, 1, 0, 0, 0, 0, 0, 1, 1, 0, 0, 0, 1, 0, 0, 0, 0, 0, 1,\n",
       "       1, 0, 0, 0, 1, 0, 1, 0, 1, 1, 0, 0, 0, 0, 0, 1, 0, 0, 0, 1, 1, 1,\n",
       "       0, 0, 0, 1, 1, 0, 0, 0, 1, 0, 0, 1, 0, 1, 1, 0, 1, 0, 0, 0, 1, 1,\n",
       "       0, 1, 1, 0, 1, 0, 1, 0, 1, 0, 0, 0, 1, 0, 0, 0, 0, 0, 0, 0, 0, 0,\n",
       "       0, 1, 1, 0, 1, 0, 0, 1, 0, 1, 1, 0, 1, 0, 0, 0, 0, 1, 0, 0, 0, 1,\n",
       "       0, 0, 0, 0, 1, 0, 1, 0, 0, 1, 1, 0, 1, 0, 0, 0, 0, 0, 1, 0, 0, 0,\n",
       "       0, 0, 1, 1, 1, 1, 1, 1, 1, 0, 0, 0, 1, 0, 1, 1, 0, 1, 0, 0, 0, 1,\n",
       "       1, 1, 1, 1, 0, 1, 1, 0, 1, 0, 1, 0, 0, 0, 0, 0, 1, 0, 1, 0, 1, 1,\n",
       "       0, 0, 1, 1, 0, 1, 0, 0, 0, 0, 1, 0, 0, 0, 0, 0, 1, 1, 1, 0, 1, 0,\n",
       "       1, 0, 1, 0, 1, 1, 0, 1, 0, 0, 0, 1, 1, 0, 1, 0, 1, 0, 1, 1, 1, 1,\n",
       "       0, 0, 1, 1, 1, 0, 1, 0, 1, 0, 1, 0, 0, 0, 0, 0, 1, 0, 0, 0, 1, 1,\n",
       "       0, 0, 0, 0, 0, 0, 0, 0, 1, 1, 0, 1, 0, 0, 0, 0, 1, 1, 1, 1, 1, 0,\n",
       "       0, 1, 0, 0, 0, 0, 0, 0, 0, 0, 1, 0, 0, 0, 0, 0, 0, 0, 1, 1, 0, 1,\n",
       "       0, 0, 0, 0, 0, 0, 1, 1, 1, 0, 0, 0, 0, 0, 0, 0, 1, 0, 1, 0, 0, 0,\n",
       "       1, 0, 0, 1, 0, 0, 0, 0, 0, 0, 0, 0, 0, 1, 1, 0, 0, 1, 0, 1, 1, 0,\n",
       "       0, 0, 1, 0, 1, 0, 0, 0, 0, 1, 1, 0, 1, 1, 0, 1, 1, 0, 0, 1, 1, 0,\n",
       "       1, 1, 0, 0, 0, 0, 0, 0, 0, 1, 0, 1, 0, 0, 0, 0, 1, 1, 1, 0, 0, 1,\n",
       "       0, 1, 0, 0, 1, 0, 1, 1, 1, 0, 0, 0, 1, 1, 1, 1, 0, 0, 1, 0, 0, 1],\n",
       "      dtype=int64)"
      ]
     },
     "execution_count": 44,
     "metadata": {},
     "output_type": "execute_result"
    }
   ],
   "source": [
    "y_pred_final=clf6.predict(Xy_test)\n",
    "y_pred_final"
   ]
  },
  {
   "cell_type": "code",
   "execution_count": 45,
   "metadata": {},
   "outputs": [],
   "source": [
    "predictions['Survived']=y_pred_final"
   ]
  },
  {
   "cell_type": "code",
   "execution_count": 46,
   "metadata": {},
   "outputs": [],
   "source": [
    "predictions.to_csv(\"pred.csv\",index = False)"
   ]
  },
  {
   "cell_type": "code",
   "execution_count": null,
   "metadata": {},
   "outputs": [],
   "source": []
  },
  {
   "cell_type": "code",
   "execution_count": null,
   "metadata": {},
   "outputs": [],
   "source": []
  }
 ],
 "metadata": {
  "kernelspec": {
   "display_name": "Python 3",
   "language": "python",
   "name": "python3"
  },
  "language_info": {
   "codemirror_mode": {
    "name": "ipython",
    "version": 3
   },
   "file_extension": ".py",
   "mimetype": "text/x-python",
   "name": "python",
   "nbconvert_exporter": "python",
   "pygments_lexer": "ipython3",
   "version": "3.7.0"
  }
 },
 "nbformat": 4,
 "nbformat_minor": 2
}
